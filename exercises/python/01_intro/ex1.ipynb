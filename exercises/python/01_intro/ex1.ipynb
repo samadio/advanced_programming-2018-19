{
 "cells": [
  {
   "cell_type": "code",
   "execution_count": 2,
   "metadata": {},
   "outputs": [],
   "source": [
    "# C STUFF. NOPE\n",
    "from numpy import prod,zeros\n",
    "from functools import reduce\n",
    "\n",
    "'''def is_palindrome(string_var):  #FALSE==0\n",
    "    ret=1\n",
    "    for i in (0,len(string_var)//2):\n",
    "            ret = ret* (string_var[i]==string_var[-i-1])\n",
    "    return bool(ret)\n",
    "    \n",
    "    or\n",
    "    \n",
    "return string_var= ''.join(reversed(string_var))\n",
    "    \n",
    "'''\n",
    "import collections\n",
    "\n",
    "def is_palindrome(string_var):     \n",
    "    return string_var==string_var[::-1] #string_var==reversed(string_var)\n",
    "\n",
    "\n",
    "def histogram_letters(string_var):     \n",
    "    ret = collections.Counter(string_var)\n",
    "    return ret\n",
    "'''\n",
    "def histogram_letters(string_var):\n",
    "    ret={}\n",
    "    for c in string_var:\n",
    "        ret[c]=ret.get(c,0)+1\n",
    "    return ret\n",
    "\n",
    "'''\n",
    "\n",
    "\n",
    "def get_most_frequent(list_var):\n",
    "    return collections.Counter(list_var).most_common(1)[0]\n",
    "    #ret=histogram_letters(list_var)\n",
    "    #k=sorted(ret,ret.get)[-1]\n",
    "    #return k, ret[k]\n",
    "\n",
    "def which_duplicates(list_var):\n",
    "    #return dictionare with the repeated elemnts and how many\n",
    "    return dict(collections.Counter(list_var)-collections.Counter(set(list_var)))\n",
    "\n",
    "\n",
    "def compute_factorial(int_val):\n",
    "    return reduce(lambda x,y: x*y,range(1,int_val+1))\n",
    "\n",
    "#reduce applica una funzione a tutti gli elementi della lista\n",
    "\n",
    "def is_prime(int_val):\n",
    "    '''\n",
    "    returns True if int_val is prime, False otherwise\n",
    "    '''\n",
    "    \n",
    "    return bool(prod([bool(int_val%i) for i in range(2,(int_val+1)//2)]))\n"
   ]
  },
  {
   "cell_type": "code",
   "execution_count": 35,
   "metadata": {},
   "outputs": [
    {
     "name": "stdout",
     "output_type": "stream",
     "text": [
      "True\n"
     ]
    }
   ],
   "source": [
    "#print(which_duplicates('a1234156a7'))\n",
    "print(is_prime(101))\n",
    "#compute_factorial(17231)"
   ]
  },
  {
   "cell_type": "code",
   "execution_count": 50,
   "metadata": {},
   "outputs": [
    {
     "data": {
      "text/plain": [
       "0.0"
      ]
     },
     "execution_count": 50,
     "metadata": {},
     "output_type": "execute_result"
    }
   ],
   "source": [
    "#prod([17321%i for i in range(2,(17321+1)//2)]) #??output 0: there's a divisor???\n",
    "#what=[17321%i for i in range(2,(17321+1)//2)]==zeros(8659) #check where's the divisor..\n",
    "#max(what*1.0) #sono tutti False==0!\n",
    "\n",
    "#min([17321%i for i in range(2,(17321+1)//2)])"
   ]
  },
  {
   "cell_type": "code",
   "execution_count": null,
   "metadata": {},
   "outputs": [],
   "source": []
  },
  {
   "cell_type": "code",
   "execution_count": null,
   "metadata": {},
   "outputs": [],
   "source": []
  }
 ],
 "metadata": {
  "kernelspec": {
   "display_name": "Python 3",
   "language": "python",
   "name": "python3"
  },
  "language_info": {
   "codemirror_mode": {
    "name": "ipython",
    "version": 3
   },
   "file_extension": ".py",
   "mimetype": "text/x-python",
   "name": "python",
   "nbconvert_exporter": "python",
   "pygments_lexer": "ipython3",
   "version": "3.6.8"
  }
 },
 "nbformat": 4,
 "nbformat_minor": 2
}
