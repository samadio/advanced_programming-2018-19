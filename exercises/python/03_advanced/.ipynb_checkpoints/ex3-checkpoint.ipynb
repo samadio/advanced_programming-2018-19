{
 "cells": [
  {
   "cell_type": "code",
   "execution_count": 60,
   "metadata": {},
   "outputs": [
    {
     "name": "stderr",
     "output_type": "stream",
     "text": [
      "E\n",
      "======================================================================\n",
      "ERROR: /run/user/1000/jupyter/kernel-42466058-a53f-4680-bb79-7c23671f5e4c (unittest.loader._FailedTest)\n",
      "----------------------------------------------------------------------\n",
      "AttributeError: module '__main__' has no attribute '/run/user/1000/jupyter/kernel-42466058-a53f-4680-bb79-7c23671f5e4c'\n",
      "\n",
      "----------------------------------------------------------------------\n",
      "Ran 1 test in 0.001s\n",
      "\n",
      "FAILED (errors=1)\n"
     ]
    },
    {
     "ename": "SystemExit",
     "evalue": "True",
     "output_type": "error",
     "traceback": [
      "An exception has occurred, use %tb to see the full traceback.\n",
      "\u001b[0;31mSystemExit\u001b[0m\u001b[0;31m:\u001b[0m True\n"
     ]
    },
    {
     "name": "stderr",
     "output_type": "stream",
     "text": [
      "/home/simone/anaconda3/lib/python3.6/site-packages/IPython/core/interactiveshell.py:3273: UserWarning: To exit: use 'exit', 'quit', or Ctrl-D.\n",
      "  warn(\"To exit: use 'exit', 'quit', or Ctrl-D.\", stacklevel=1)\n"
     ]
    }
   ],
   "source": [
    "__all__ = ['MyRange','myrange']\n",
    "\n",
    "class MyRange():\n",
    "    \n",
    "    def __init__(self,start,stop,step=1):\n",
    "        self.range=range(start,stop,step)\n",
    "\n",
    "def my_range(*args):\n",
    "    n=len(args)\n",
    "    if n not in (1,2,3):\n",
    "        raise TypeError(\"argument given\" +str(n)+ \"cannot be start,stop,step\")\n",
    "    if n==1:\n",
    "        return MyRange(0,args[0]).range\n",
    "    if n==2:\n",
    "        return MyRange(args[0],args[1]).range\n",
    "    if n==3:\n",
    "        return MyRange(args[0],args[1],args[2]).range\n",
    "    \n",
    "    \n",
    "\n",
    "import unittest\n",
    "class TestMyModule(unittest.TestCase):\n",
    "    def threeargs(self):\n",
    "        self.assertEqual([i for i in myrange(1,10,5)], [i for i in range(1,10,5)])\n",
    "      \n",
    "    def twoargs(self):\n",
    "        self.assertEqual([i for i in myrange(1,10)], [i for i in range(1,10)])\n",
    "    \n",
    "    \n",
    "    def onearg(self):\n",
    "        self.assertEqual([i for i in myrange(100)], [i for i in range(101)])\n",
    "            \n",
    "if __name__ == '__main__':\n",
    "    unittest.main()\n"
   ]
  },
  {
   "cell_type": "code",
   "execution_count": 49,
   "metadata": {},
   "outputs": [
    {
     "name": "stdout",
     "output_type": "stream",
     "text": [
      "Elapsed time:  0.01945982599954732\n"
     ]
    }
   ],
   "source": [
    "import time\n",
    "\n",
    "class Timer:\n",
    "    \n",
    "    def __enter__(self):\n",
    "        self.begin = time.perf_counter()\n",
    "        \n",
    "        \n",
    "    def __exit__(self,*args):\n",
    "        self.end=time.perf_counter()\n",
    "        print(\"Elapsed time: \", self.end-self.begin )\n",
    "\n",
    "count=0\n",
    "with Timer():\n",
    "    for i in range(100000):\n",
    "        count+=i*i"
   ]
  },
  {
   "cell_type": "code",
   "execution_count": 40,
   "metadata": {},
   "outputs": [],
   "source": []
  },
  {
   "cell_type": "code",
   "execution_count": null,
   "metadata": {},
   "outputs": [],
   "source": []
  }
 ],
 "metadata": {
  "kernelspec": {
   "display_name": "Python 3",
   "language": "python",
   "name": "python3"
  },
  "language_info": {
   "codemirror_mode": {
    "name": "ipython",
    "version": 3
   },
   "file_extension": ".py",
   "mimetype": "text/x-python",
   "name": "python",
   "nbconvert_exporter": "python",
   "pygments_lexer": "ipython3",
   "version": "3.6.8"
  }
 },
 "nbformat": 4,
 "nbformat_minor": 2
}
