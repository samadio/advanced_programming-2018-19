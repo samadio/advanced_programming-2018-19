{
 "cells": [
  {
   "cell_type": "code",
   "execution_count": 6,
   "metadata": {},
   "outputs": [
    {
     "name": "stdout",
     "output_type": "stream",
     "text": [
      "Help on built-in function sorted in module builtins:\n",
      "\n",
      "sorted(iterable, /, *, key=None, reverse=False)\n",
      "    Return a new list containing all items from the iterable in ascending order.\n",
      "    \n",
      "    A custom key function can be supplied to customize the sort order, and the\n",
      "    reverse flag can be set to request the result in descending order.\n",
      "\n"
     ]
    }
   ],
   "source": [
    "import this\n",
    "import antigravity\n",
    "help(sorted)"
   ]
  },
  {
   "cell_type": "code",
   "execution_count": 131,
   "metadata": {},
   "outputs": [],
   "source": [
    "a=[\"list\", \"of\", \"words\"]\n",
    "reversing=lambda arg: sorted(arg,reverse=True)\n",
    "reversing(a)\n",
    "import copy\n",
    "#b=copy.copy(a) #deep copy\n",
    "#a+=[\"another\"]\n",
    "#?iter #iter(obj) gets iterator from object"
   ]
  },
  {
   "cell_type": "code",
   "execution_count": 168,
   "metadata": {
    "scrolled": true
   },
   "outputs": [],
   "source": [
    "class Sequence:\n",
    "    def __init__(self, arg):\n",
    "        self.l=[i for i in arg]\n",
    "        \n",
    "    def __str__(self):\n",
    "        return str(self.l)\n",
    "    \n",
    "    def __len__(self):\n",
    "        return len(self.l)\n",
    "    \n",
    "    def __eq__(self,other):\n",
    "        return self.l==other.l\n",
    "    \n",
    "    def __getitem__(self,key):\n",
    "        return self.l[key]\n",
    "    \n",
    "    def __setitem__(self,key,value):\n",
    "        self.l[key]=value\n",
    "        \n",
    "    def __delitem__(self,index):\n",
    "        del self.l[index]\n",
    "        \n",
    "    def __iter__(self):\n",
    "        return iter(self.l)\n",
    "                \n",
    "    def insert(self,key,value):\n",
    "        (self.l).insert(key,value)\n",
    "    \n",
    "    def append(self, value):\n",
    "        (self.l).append(value)\n",
    "        \n",
    "    def __copy__(self):\n",
    "        return copy.deepcopy(self.l)"
   ]
  },
  {
   "cell_type": "code",
   "execution_count": 172,
   "metadata": {
    "scrolled": true
   },
   "outputs": [
    {
     "name": "stdout",
     "output_type": "stream",
     "text": [
      "['changed', 1, 2, 3, 4, 5, 6, 7, 25, 8, 9, 120, 'New'] ['changed', 1, 2, 3, 4, 5, 6, 7, 25, 8, 9, 120]\n"
     ]
    }
   ],
   "source": [
    "s = Sequence(range(10))\n",
    "len(s)\n",
    "s1 = Sequence(range(10))\n",
    "s2 = Sequence(range(9))\n",
    "s==s1\n",
    "s!=s1\n",
    "s[0]=\"changed\"\n",
    "#print(s)\n",
    "#del s[5:9:2]\n",
    "#print(s)\n",
    "#for x in s:\n",
    "#    print(x)\n",
    "s.insert(8,25)\n",
    "s.append(120)\n",
    "#print(s)\n",
    "s1=copy.copy(s)\n",
    "s.append(\"New\")\n",
    "print(s,s1)"
   ]
  },
  {
   "cell_type": "code",
   "execution_count": null,
   "metadata": {},
   "outputs": [],
   "source": []
  }
 ],
 "metadata": {
  "kernelspec": {
   "display_name": "Python 3",
   "language": "python",
   "name": "python3"
  },
  "language_info": {
   "codemirror_mode": {
    "name": "ipython",
    "version": 3
   },
   "file_extension": ".py",
   "mimetype": "text/x-python",
   "name": "python",
   "nbconvert_exporter": "python",
   "pygments_lexer": "ipython3",
   "version": "3.6.8"
  }
 },
 "nbformat": 4,
 "nbformat_minor": 2
}
