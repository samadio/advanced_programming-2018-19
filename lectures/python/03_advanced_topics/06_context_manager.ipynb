{
 "cells": [
  {
   "cell_type": "markdown",
   "metadata": {},
   "source": [
    "## Context manager"
   ]
  },
  {
   "cell_type": "code",
   "execution_count": 11,
   "metadata": {},
   "outputs": [
    {
     "data": {
      "text/plain": [
       "True"
      ]
     },
     "execution_count": 11,
     "metadata": {},
     "output_type": "execute_result"
    }
   ],
   "source": [
    "#with {thing that define a context manager} as alias:\n",
    "#...stuff...\n",
    "#...\n",
    "#At the end\n",
    "\n",
    "#a context manager is an object that has two main methods:enter and exit. So that every time you start\n",
    "#and quit using it you're sure something has happened\n",
    "\n",
    "with open(\"new_file.txt\",'w') as f:\n",
    "    for i in range(10):\n",
    "        #print(i,file=f)\n",
    "        f.write(str(i)+'\\n')\n",
    "f.closed\n",
    "#here I want to check that context manager for open automatically close the file"
   ]
  },
  {
   "cell_type": "code",
   "execution_count": 12,
   "metadata": {},
   "outputs": [
    {
     "data": {
      "text/plain": [
       "[0, 1, 2, 3, 4, 5, 6, 7, 8, 9]"
      ]
     },
     "execution_count": 12,
     "metadata": {},
     "output_type": "execute_result"
    }
   ],
   "source": [
    "a=[]\n",
    "with open(\"new_file.txt\",'r') as f:\n",
    "    for i in f:\n",
    "        a.append(int(i))            \n",
    "a"
   ]
  },
  {
   "cell_type": "code",
   "execution_count": 13,
   "metadata": {},
   "outputs": [
    {
     "data": {
      "text/plain": [
       "[0, 1, 2, 3, 4, 5, 6, 7, 8, 9]"
      ]
     },
     "execution_count": 13,
     "metadata": {},
     "output_type": "execute_result"
    }
   ],
   "source": [
    "with open('new_file.txt') as f:\n",
    "    a = [int(i) for i in f]\n",
    "a"
   ]
  },
  {
   "cell_type": "code",
   "execution_count": 14,
   "metadata": {},
   "outputs": [
    {
     "name": "stdout",
     "output_type": "stream",
     "text": [
      "__enter__\n",
      "?no gniog si tahW\n",
      "itopinonavevanonipoti\n",
      "__exit__\n",
      "back to work\n"
     ]
    }
   ],
   "source": [
    "# adapted from Fluent Python\n",
    "class LookingGlass:\n",
    "    def __enter__(self): # no other arguments\n",
    "        print(\"__enter__\")\n",
    "        import sys\n",
    "        self.original_write = sys.stdout.write\n",
    "        sys.stdout.write = self.reverse_write\n",
    "    \n",
    "    def reverse_write(self,text):\n",
    "        self.original_write(text[::-1])\n",
    "    \n",
    "    def __exit__(self, exc_type, exc_value, traceback):\n",
    "        import sys\n",
    "        sys.stdout.write = self.original_write # restore original\n",
    "        # handling of exception, if any\n",
    "        print(\"__exit__\")\n",
    "        return True # everything has been managed\n",
    "    \n",
    "\n",
    "with LookingGlass() as wtf:\n",
    "    print(\"What is going on?\")\n",
    "    print(\"itopinonavevanonipoti\")\n",
    "        \n",
    "print(\"back to work\")"
   ]
  },
  {
   "cell_type": "code",
   "execution_count": null,
   "metadata": {},
   "outputs": [],
   "source": []
  }
 ],
 "metadata": {
  "kernelspec": {
   "display_name": "Python 3",
   "language": "python",
   "name": "python3"
  },
  "language_info": {
   "codemirror_mode": {
    "name": "ipython",
    "version": 3
   },
   "file_extension": ".py",
   "mimetype": "text/x-python",
   "name": "python",
   "nbconvert_exporter": "python",
   "pygments_lexer": "ipython3",
   "version": "3.6.6"
  }
 },
 "nbformat": 4,
 "nbformat_minor": 2
}
