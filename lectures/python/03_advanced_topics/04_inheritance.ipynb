{
 "cells": [
  {
   "cell_type": "markdown",
   "metadata": {},
   "source": [
    "##  Inheritance\n",
    " - instead of duck typing: is when it's not important that is a duck, but it behaves like a duck"
   ]
  },
  {
   "cell_type": "code",
   "execution_count": 2,
   "metadata": {},
   "outputs": [
    {
     "name": "stdout",
     "output_type": "stream",
     "text": [
      "Bau\n"
     ]
    },
    {
     "data": {
      "text/plain": [
       "99"
      ]
     },
     "execution_count": 2,
     "metadata": {},
     "output_type": "execute_result"
    }
   ],
   "source": [
    "class Animal:\n",
    "    def __init__(self):\n",
    "        self.age = 99\n",
    "    def speak(self):\n",
    "        print(\"unknown\")\n",
    "\n",
    "class Dog(Animal): #this is inheritance syntax\n",
    "    def speak(self): #overwrite things in Father, no problem\n",
    "        print(\"Bau\")\n",
    "        \n",
    "d = Dog()\n",
    "\n",
    "d.speak()\n",
    "d.age"
   ]
  },
  {
   "cell_type": "markdown",
   "metadata": {},
   "source": [
    "### Method resolution order\n",
    "- when u search 4 a method you start from yourself, than u ask for the first defined father (B for E)"
   ]
  },
  {
   "cell_type": "code",
   "execution_count": 6,
   "metadata": {},
   "outputs": [
    {
     "name": "stdout",
     "output_type": "stream",
     "text": [
      "E foo\n",
      "_score 42\n",
      "__find_this 99\n",
      "B foo\n",
      "D foo\n",
      "A foo\n",
      "42\n",
      "(<class '__main__.E'>, <class '__main__.B'>, <class '__main__.C'>, <class '__main__.D'>, <class '__main__.A'>, <class 'object'>)\n"
     ]
    }
   ],
   "source": [
    "class A:\n",
    "    def __init__(self):\n",
    "        self._score = 42\n",
    "        self.__find_this = 99 # kind of private: try to uncomment and print in class E: error\n",
    "    def foo(self):\n",
    "        print(\"A foo\")\n",
    "        \n",
    "class B(A):\n",
    "    def foo(self):\n",
    "        print(\"B foo\")\n",
    "        \n",
    "class C(A):\n",
    "    def foo(self):\n",
    "        print(\"C foo\")\n",
    "        \n",
    "class D(A):\n",
    "    def foo(self):\n",
    "        print(\"D foo\")\n",
    "        \n",
    "class E(B,C,D):\n",
    "    def foo(self):\n",
    "        print(\"E foo\")\n",
    "        print(\"_score\", self._score)\n",
    "        #print(\"__find_this\", self.__find_this)\n",
    "        print(\"__find_this\", self._A__find_this)\n",
    "        \n",
    "    def bar(self):\n",
    "        self.foo() \n",
    "        super().foo() #super allows u to skip yourself: super(E) searches foo in B,C,D not in E itself.Finds B\n",
    "        D.foo(self)   # unbound method --> you have to pass self. Class D can even be completely unrelated\n",
    "        A.foo(self)   #u can call a method that it's not yours nor your parent\n",
    "        print(self._score)\n",
    "\n",
    "e = E()\n",
    "e.bar()\n",
    "print (E.__mro__) #method resolution order for class E: order for search\n",
    "\n",
    "#self.__find_this: like private in the sense that the double underscore makes it from self.__x to self._A__x:\n",
    "#in order to access it from outside you have to call it that way"
   ]
  },
  {
   "cell_type": "markdown",
   "metadata": {},
   "source": [
    "### Use `isinstance` and `issubclass`, instead of `type(x) == type(y)`"
   ]
  },
  {
   "cell_type": "code",
   "execution_count": 7,
   "metadata": {},
   "outputs": [
    {
     "name": "stdout",
     "output_type": "stream",
     "text": [
      "True\n",
      "False\n",
      "False\n",
      "True\n"
     ]
    }
   ],
   "source": [
    "#type(x) returns a string and polymorphism is not a thing\n",
    "print(isinstance(e,A)) #the object A is of class E which inherited by A, so e is A\n",
    "print(isinstance(e,dict))\n",
    "print(isinstance(B,A)) #the two classes are not the same things\n",
    "print(issubclass(B,A)) #VERY USEFUL"
   ]
  },
  {
   "cell_type": "markdown",
   "metadata": {},
   "source": [
    "### Abstract classes?\n",
    "- Abstract Base Class (ABC)"
   ]
  },
  {
   "cell_type": "code",
   "execution_count": 8,
   "metadata": {},
   "outputs": [
    {
     "ename": "TypeError",
     "evalue": "Can't instantiate abstract class Animal with abstract methods speak",
     "output_type": "error",
     "traceback": [
      "\u001b[0;31m---------------------------------------------------------------------------\u001b[0m",
      "\u001b[0;31mTypeError\u001b[0m                                 Traceback (most recent call last)",
      "\u001b[0;32m<ipython-input-8-7f98701ba57d>\u001b[0m in \u001b[0;36m<module>\u001b[0;34m()\u001b[0m\n\u001b[1;32m      9\u001b[0m     \u001b[0;32mdef\u001b[0m \u001b[0mspeak\u001b[0m\u001b[0;34m(\u001b[0m\u001b[0mself\u001b[0m\u001b[0;34m)\u001b[0m\u001b[0;34m:\u001b[0m \u001b[0;32mpass\u001b[0m\u001b[0;34m\u001b[0m\u001b[0m\n\u001b[1;32m     10\u001b[0m \u001b[0;34m\u001b[0m\u001b[0m\n\u001b[0;32m---> 11\u001b[0;31m \u001b[0ma\u001b[0m \u001b[0;34m=\u001b[0m \u001b[0mAnimal\u001b[0m\u001b[0;34m(\u001b[0m\u001b[0;34m)\u001b[0m \u001b[0;31m# expect error\u001b[0m\u001b[0;34m\u001b[0m\u001b[0m\n\u001b[0m",
      "\u001b[0;31mTypeError\u001b[0m: Can't instantiate abstract class Animal with abstract methods speak"
     ]
    }
   ],
   "source": [
    "import abc #it's a module\n",
    "\n",
    "#class Animal(metaclass = abc.ABCMeta):\n",
    "class Animal(abc.ABC):\n",
    "    def __init__(self,age,name):\n",
    "        self.age = age\n",
    "        self.name = name\n",
    "    @abc.abstractmethod\n",
    "    def speak(self): pass\n",
    "\n",
    "a = Animal() # expect error. Didn't understand why!?"
   ]
  },
  {
   "cell_type": "code",
   "execution_count": 9,
   "metadata": {},
   "outputs": [
    {
     "name": "stdout",
     "output_type": "stream",
     "text": [
      "Bau\n",
      "1 Fido\n"
     ]
    }
   ],
   "source": [
    "class Dog(Animal):\n",
    "    def speak(self):\n",
    "        print(\"Bau\")\n",
    "d = Dog(1,\"Fido\")\n",
    "d.speak()\n",
    "print(d.age, d.name)"
   ]
  },
  {
   "cell_type": "code",
   "execution_count": null,
   "metadata": {},
   "outputs": [],
   "source": []
  }
 ],
 "metadata": {
  "kernelspec": {
   "display_name": "Python 3",
   "language": "python",
   "name": "python3"
  },
  "language_info": {
   "codemirror_mode": {
    "name": "ipython",
    "version": 3
   },
   "file_extension": ".py",
   "mimetype": "text/x-python",
   "name": "python",
   "nbconvert_exporter": "python",
   "pygments_lexer": "ipython3",
   "version": "3.6.6"
  }
 },
 "nbformat": 4,
 "nbformat_minor": 2
}
