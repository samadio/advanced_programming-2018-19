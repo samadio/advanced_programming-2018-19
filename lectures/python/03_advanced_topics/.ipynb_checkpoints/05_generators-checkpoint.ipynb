{
 "cells": [
  {
   "cell_type": "markdown",
   "metadata": {},
   "source": [
    "## Iterables and iterators"
   ]
  },
  {
   "cell_type": "code",
   "execution_count": 6,
   "metadata": {},
   "outputs": [
    {
     "name": "stdout",
     "output_type": "stream",
     "text": [
      "IV\n",
      "3\n",
      "second\n",
      "first\n"
     ]
    }
   ],
   "source": [
    "# taken from Python documentation\n",
    "class Reverse:\n",
    "    \"\"\"Iterator for looping over a sequence backwards.\"\"\"###BACKWARDS!\n",
    "    def __init__(self, data):\n",
    "        self.data = data\n",
    "        self.index = len(data)\n",
    "\n",
    "    def __iter__(self):\n",
    "        return self\n",
    "\n",
    "    def __next__(self):\n",
    "        if self.index == 0:\n",
    "            raise StopIteration\n",
    "        self.index = self.index - 1\n",
    "        return self.data[self.index]\n",
    "\n",
    "for i in Reverse((\"first\", 'second', 3, 'IV')):\n",
    "    print(i)\n",
    "    \n",
    "#REVERSE is an iterable: u can use it once and then u're done"
   ]
  },
  {
   "cell_type": "code",
   "execution_count": 7,
   "metadata": {},
   "outputs": [
    {
     "name": "stdout",
     "output_type": "stream",
     "text": [
      "IV\n",
      "3\n",
      "second\n",
      "first\n",
      "let's loop again...\n"
     ]
    }
   ],
   "source": [
    "#previous cell equivalent to\n",
    "rev = Reverse((\"first\", 'second', 3, 'IV'))\n",
    "print(next(rev))\n",
    "print(next(rev))\n",
    "print(next(rev))\n",
    "print(next(rev))\n",
    "\n",
    "print(\"let's loop again...\")\n",
    "#nothing happens because next keep encountering 0\n",
    "for i in rev:\n",
    "    print(i)"
   ]
  },
  {
   "cell_type": "markdown",
   "metadata": {},
   "source": [
    "## Generators\n",
    "\n",
    "- Generator functions allow you to declare a function that behaves like an iterator, i.e. it can be used in a for loop. "
   ]
  },
  {
   "cell_type": "code",
   "execution_count": 3,
   "metadata": {},
   "outputs": [
    {
     "name": "stdout",
     "output_type": "stream",
     "text": [
      "IV  1\n",
      "3  1\n",
      "second  1\n",
      "first  1\n",
      "IV  2\n",
      "3  2\n",
      "second  2\n",
      "first  2\n",
      "IV 3\n",
      "3 3\n",
      "second 3\n",
      "first 3\n"
     ]
    }
   ],
   "source": [
    "#this is a generator\n",
    "def reverse(data):\n",
    "    for index in range(len(data)-1, -1, -1):\n",
    "        yield data[index]\n",
    "        \n",
    "for i in reverse((\"first\", 'second', 3, 'IV')):\n",
    "    print(i,\" 1\")\n",
    "    \n",
    "for i in reverse((\"first\", 'second', 3, 'IV')):\n",
    "    print(i,\" 2\")\n",
    "    \n",
    "r=reverse((\"first\", 'second', 3, 'IV'))\n",
    "\n",
    "for i in r:\n",
    "    print(i, \"3\")\n",
    "    \n",
    "for i in r:\n",
    "    print(i,\" 4\") #same problem as before\n"
   ]
  },
  {
   "cell_type": "markdown",
   "metadata": {},
   "source": [
    "### Generator expressions"
   ]
  },
  {
   "cell_type": "code",
   "execution_count": 14,
   "metadata": {},
   "outputs": [
    {
     "name": "stdout",
     "output_type": "stream",
     "text": [
      "0\n",
      "2\n",
      "4\n",
      "6\n",
      "8\n"
     ]
    }
   ],
   "source": [
    "for i in (n for n in range(10) if n%2 == 0):\n",
    "    print(i)\n",
    "    \n",
    "#we're not constructing an object using 5 numbers, we have now a generator: we have not an object of 5 numbers,\n",
    "#at every instant of time I'v only one value: so if I have to loop between 10^9 values I can save memory"
   ]
  }
 ],
 "metadata": {
  "kernelspec": {
   "display_name": "Python 3",
   "language": "python",
   "name": "python3"
  },
  "language_info": {
   "codemirror_mode": {
    "name": "ipython",
    "version": 3
   },
   "file_extension": ".py",
   "mimetype": "text/x-python",
   "name": "python",
   "nbconvert_exporter": "python",
   "pygments_lexer": "ipython3",
   "version": "3.6.8"
  }
 },
 "nbformat": 4,
 "nbformat_minor": 2
}
