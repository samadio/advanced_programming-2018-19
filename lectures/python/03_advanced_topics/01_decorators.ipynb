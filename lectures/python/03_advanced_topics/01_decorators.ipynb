{
 "cells": [
  {
   "cell_type": "markdown",
   "metadata": {},
   "source": [
    "##  Decorators"
   ]
  },
  {
   "cell_type": "code",
   "execution_count": 21,
   "metadata": {},
   "outputs": [
    {
     "name": "stdout",
     "output_type": "stream",
     "text": [
      "apply decorate1\n",
      "hello, world!\n"
     ]
    }
   ],
   "source": [
    "#decorators as function object\n",
    "def decorate1(func):\n",
    "    def inner():\n",
    "        print(\"apply decorate1\")\n",
    "        func()\n",
    "    return inner\n",
    "\n",
    "@decorate1\n",
    "def hello():\n",
    "    print(\"hello, world!\")\n",
    "        \n",
    "hello()"
   ]
  },
  {
   "cell_type": "code",
   "execution_count": 2,
   "metadata": {},
   "outputs": [
    {
     "name": "stdout",
     "output_type": "stream",
     "text": [
      "apply decorate1\n",
      "hello, world!\n"
     ]
    }
   ],
   "source": [
    "#this is what actually happen when u use a declarator\n",
    "%reset -f \n",
    "def decorate1(func):\n",
    "    def inner():\n",
    "        print(\"apply decorate1\")\n",
    "        func()\n",
    "    return inner\n",
    "\n",
    "def hello():\n",
    "    print(\"hello, world!\")\n",
    "\n",
    "hello = decorate1(hello)\n",
    "hello()\n",
    "\n",
    "#time this DEFINE and creates a closure: a class object: u give a function to time_this, it creates a new\n",
    "#function and returns it. If you do \n",
    "    #hello = decorate1(hello)\n",
    "#steps: decorate1 receives hello, define a closure function(?) and returns it. Then u reassign this to hello\n",
    "#So now using \"hello\" u are calling the object created by the decorator"
   ]
  },
  {
   "cell_type": "code",
   "execution_count": 3,
   "metadata": {},
   "outputs": [
    {
     "name": "stdout",
     "output_type": "stream",
     "text": [
      "apply decorate1\n",
      "apply decorate2\n",
      "hello, world!\n"
     ]
    }
   ],
   "source": [
    "def decorate2(func):\n",
    "    def inner():\n",
    "        print(\"apply decorate2\")\n",
    "        func()\n",
    "    return inner\n",
    "\n",
    "@decorate1\n",
    "@decorate2\n",
    "def hello12():\n",
    "    print(\"hello, world!\")\n",
    "hello12() # same as hello12 = decorate1(decorate2(hello12))"
   ]
  },
  {
   "cell_type": "code",
   "execution_count": 6,
   "metadata": {},
   "outputs": [
    {
     "name": "stdout",
     "output_type": "stream",
     "text": [
      "apply decorate2\n",
      "apply decorate1\n",
      "hello, world!\n"
     ]
    }
   ],
   "source": [
    "@decorate2\n",
    "@decorate1\n",
    "def hello21():\n",
    "    print(\"hello, world!\") \n",
    "hello21() # same as hello21 = decorate2(decorate1(hello21))\n",
    "#u can have multiple decorator to same function. Order matters"
   ]
  },
  {
   "cell_type": "markdown",
   "metadata": {},
   "source": [
    "###  How to pass arguments to the inner function"
   ]
  },
  {
   "cell_type": "code",
   "execution_count": 27,
   "metadata": {},
   "outputs": [
    {
     "name": "stdout",
     "output_type": "stream",
     "text": [
      "wait(0.3): [0.30043521s]\n",
      "factorial(1): [0.00000161s]\n",
      "factorial(2): [0.00009392s]\n",
      "factorial(3): [0.00088229s]\n",
      "factorial(4): [0.00101830s]\n",
      "factorial(5): [0.00114757s]\n",
      "factorial(6): [0.00121242s]\n",
      "factorial(7): [0.00127111s]\n",
      "factorial(8): [0.00133997s]\n",
      "factorial(9): [0.00140367s]\n",
      "factorial(10): [0.00147117s]\n",
      "sum(4,5): [0.00000230s]\n",
      "dummy(pos,second,a=a, b=b): [0.00000358s]\n"
     ]
    }
   ],
   "source": [
    "#adapted from Fluent Python\n",
    "import functools\n",
    "def args_to_string(*args,**kw):\n",
    "    arg_str = []\n",
    "    if args:\n",
    "        arg_str.append(','.join(str(arg) for arg in args))\n",
    "    if kw:\n",
    "        arg_str.append(', '.join(('{0}={1}'.format(k,v) for k,v in kw.items())))\n",
    "    return ','.join(a for a in arg_str)\n",
    "\n",
    "import time\n",
    "def time_this(func):\n",
    "    def decorated(*args,**kw): #may accept positional and keyward arguments\n",
    "        t0 = time.perf_counter()\n",
    "        result = func(*args,**kw)\n",
    "        t1 = time.perf_counter()\n",
    "        name = func.__name__\n",
    "        arg_str = args_to_string(*args,**kw)\n",
    "        #print('{0}({1}): [{2}]'.format(name, arg_str,t1-t0))  \n",
    "        #print('{}({}): [{}]'.format(name, arg_str,t1-t0))   #arg_str is a string containing all the arguments\n",
    "        print('%s(%s): [%0.8fs]' % (name, arg_str, t1-t0))\n",
    "        return result\n",
    "    return decorated\n",
    "\n",
    "#decorated return the result of the func but print the time\n",
    "\n",
    "@time_this\n",
    "def wait(seconds):\n",
    "    time.sleep(seconds)\n",
    "\n",
    "@functools.lru_cache() # <-- note () # parametrized decorators:retrieve data from cache\n",
    "@time_this\n",
    "def factorial(n):\n",
    "    return 1 if n < 2 else n*factorial(n-1)\n",
    "\n",
    "@time_this\n",
    "def sum(a,b):\n",
    "    return a+b\n",
    "\n",
    "@time_this\n",
    "def dummy(*args, **kw):\n",
    "    a = args\n",
    "    b = kw\n",
    "\n",
    "wait(0.3)\n",
    "factorial(10)\n",
    "sum(4,5)\n",
    "dummy('pos', 'second', a='a', b='b')"
   ]
  },
  {
   "cell_type": "code",
   "execution_count": 28,
   "metadata": {},
   "outputs": [
    {
     "name": "stdout",
     "output_type": "stream",
     "text": [
      "factorial(11): [0.00000280s]\n"
     ]
    },
    {
     "data": {
      "text/plain": [
       "39916800"
      ]
     },
     "execution_count": 28,
     "metadata": {},
     "output_type": "execute_result"
    }
   ],
   "source": [
    "factorial(10)\n",
    "#only the first execution a time is shown:time_this called only once\n",
    "factorial(4)\n",
    "factorial(11)"
   ]
  },
  {
   "cell_type": "code",
   "execution_count": 29,
   "metadata": {},
   "outputs": [
    {
     "name": "stdout",
     "output_type": "stream",
     "text": [
      "going to sleep for 0.4 seconds\n",
      "woke up!\n",
      "wait(0.4): [0.40146626s]\n"
     ]
    }
   ],
   "source": [
    "#PARAMETRIZED DECORATOR\n",
    "import time\n",
    "def parametrized_time_this(check=True): #check=if u want to use the decorator\n",
    "    def decorator(func): #actual decorator\n",
    "        if not check:\n",
    "            return func #if check false, u call func the function itself, so ur not decorating\n",
    "        def decorated(*args,**kw): #argumento for the decorator\n",
    "            t0 = time.perf_counter()\n",
    "            result = func(*args,**kw)\n",
    "            t1 = time.perf_counter()\n",
    "            name = func.__name__\n",
    "            arg_str = args_to_string(*args,**kw)\n",
    "            print('%s(%s): [%0.8fs]' % (name, arg_str, t1-t0))\n",
    "            return result\n",
    "        return decorated\n",
    "    return decorator # <-- returns the actual decorator\n",
    "    \n",
    "@parametrized_time_this(True)\n",
    "def wait(seconds):\n",
    "    print('going to sleep for', seconds,'seconds')\n",
    "    time.sleep(seconds)\n",
    "    print('woke up!')\n",
    "\n",
    "wait(0.4)"
   ]
  },
  {
   "cell_type": "markdown",
   "metadata": {},
   "source": [
    "### Decorators as function objects"
   ]
  },
  {
   "cell_type": "code",
   "execution_count": 30,
   "metadata": {},
   "outputs": [
    {
     "name": "stdout",
     "output_type": "stream",
     "text": [
      "going to sleep for 0.4 seconds\n",
      "woke up!\n",
      "wait(0.4): [0.40084209s]\n"
     ]
    }
   ],
   "source": [
    "import time\n",
    "class TimeThis():\n",
    "    def __init__(self, func):           # <--\n",
    "        self._func = func               # <--\n",
    "        \n",
    "    def __call__(self, *args, **kw):\n",
    "        t0 = time.perf_counter()\n",
    "        result = self._func(*args,**kw) # <--\n",
    "        t1 = time.perf_counter()\n",
    "        name = self._func.__name__      # <--\n",
    "        arg_str = args_to_string(*args,**kw)\n",
    "        print('%s(%s): [%0.8fs]' % (name, arg_str, t1-t0))\n",
    "        return result\n",
    "\n",
    "@TimeThis\n",
    "def wait(seconds):\n",
    "    print('going to sleep for', seconds,'seconds')\n",
    "    time.sleep(seconds)\n",
    "    print('woke up!')\n",
    "\n",
    "wait(0.4)"
   ]
  },
  {
   "cell_type": "code",
   "execution_count": 31,
   "metadata": {},
   "outputs": [
    {
     "name": "stdout",
     "output_type": "stream",
     "text": [
      "func(0.5): [0.00000175s]\n"
     ]
    }
   ],
   "source": [
    "def func(*args,**kw):\n",
    "    pass\n",
    "\n",
    "func = TimeThis(func)\n",
    "func(0.5)"
   ]
  },
  {
   "cell_type": "code",
   "execution_count": 32,
   "metadata": {},
   "outputs": [
    {
     "name": "stdout",
     "output_type": "stream",
     "text": [
      "going to sleep for 0.4 seconds\n",
      "woke up!\n",
      "wait(0.4): [0.40075710s]\n"
     ]
    }
   ],
   "source": [
    "class ParametrizedTimeThis():\n",
    "    def __init__(self, check=True):\n",
    "        self.check = check\n",
    "    def __call__(self,func):\n",
    "        if self.check:\n",
    "            return TimeThis(func) #if I dont use it the output is wrapper(try)\n",
    "            @TimeThis\n",
    "            def wrapper(*args,**kwargs):\n",
    "                return func(*args,**kwargs)\n",
    "            return wrapper\n",
    "        return func\n",
    "        \n",
    "@ParametrizedTimeThis(True)\n",
    "def wait(seconds):\n",
    "    print('going to sleep for', seconds,'seconds')\n",
    "    time.sleep(seconds)\n",
    "    print('woke up!')\n",
    "\n",
    "wait(0.4)"
   ]
  },
  {
   "cell_type": "code",
   "execution_count": 33,
   "metadata": {},
   "outputs": [
    {
     "name": "stdout",
     "output_type": "stream",
     "text": [
      "dummy(0.4): [0.00000189s]\n"
     ]
    }
   ],
   "source": [
    "PTT = ParametrizedTimeThis(True)\n",
    "\n",
    "def dummy(*args,**kw):\n",
    "    pass\n",
    "\n",
    "dummy = PTT(dummy)\n",
    "dummy(0.4)"
   ]
  },
  {
   "cell_type": "code",
   "execution_count": null,
   "metadata": {},
   "outputs": [],
   "source": []
  }
 ],
 "metadata": {
  "kernelspec": {
   "display_name": "Python 3",
   "language": "python",
   "name": "python3"
  },
  "language_info": {
   "codemirror_mode": {
    "name": "ipython",
    "version": 3
   },
   "file_extension": ".py",
   "mimetype": "text/x-python",
   "name": "python",
   "nbconvert_exporter": "python",
   "pygments_lexer": "ipython3",
   "version": "3.6.6"
  }
 },
 "nbformat": 4,
 "nbformat_minor": 2
}
