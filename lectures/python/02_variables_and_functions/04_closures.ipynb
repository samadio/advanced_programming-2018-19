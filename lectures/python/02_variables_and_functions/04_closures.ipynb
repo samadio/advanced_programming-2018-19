{
 "cells": [
  {
   "cell_type": "markdown",
   "metadata": {},
   "source": [
    "###  free variables (aka nonlocal variables)"
   ]
  },
  {
   "cell_type": "code",
   "execution_count": 1,
   "metadata": {},
   "outputs": [],
   "source": [
    "def inspect_vars(o):\n",
    "    for i in ('co_varnames', 'co_freevars'):\n",
    "        print(i, eval('o.__code__.'+i))"
   ]
  },
  {
   "cell_type": "code",
   "execution_count": 3,
   "metadata": {},
   "outputs": [
    {
     "name": "stdout",
     "output_type": "stream",
     "text": [
      "9.0\n",
      "10.0\n",
      "20.0\n"
     ]
    }
   ],
   "source": [
    "def maker():\n",
    "    so_far=[]\n",
    "    def avg(new_value):\n",
    "        so_far.append(new_value)\n",
    "        return sum(so_far)/len(so_far)\n",
    "    return avg #function returning a function\n",
    "\n",
    "av = maker() #store every value u give it and make the output so far #av=alias for avg\n",
    "print(av(9))\n",
    "print(av(11))\n",
    "print(av(40))"
   ]
  },
  {
   "cell_type": "code",
   "execution_count": 4,
   "metadata": {},
   "outputs": [
    {
     "name": "stdout",
     "output_type": "stream",
     "text": [
      "co_varnames ('new_value',)\n",
      "co_freevars ('so_far',)\n"
     ]
    }
   ],
   "source": [
    "inspect_vars(av)\n",
    "#local variable:new_value\n",
    "#so_far: free variable or non local variables:\n",
    "#Nonlocal variable are used in nested function whose local scope is not defined.\n",
    " #This means, the variable can be neither in the local nor the global scope."
   ]
  },
  {
   "cell_type": "code",
   "execution_count": 9,
   "metadata": {},
   "outputs": [
    {
     "ename": "UnboundLocalError",
     "evalue": "local variable '_sum' referenced before assignment",
     "output_type": "error",
     "traceback": [
      "\u001b[0;31m---------------------------------------------------------------------------\u001b[0m",
      "\u001b[0;31mUnboundLocalError\u001b[0m                         Traceback (most recent call last)",
      "\u001b[0;32m<ipython-input-9-464ab8a01d53>\u001b[0m in \u001b[0;36m<module>\u001b[0;34m()\u001b[0m\n\u001b[1;32m      9\u001b[0m \u001b[0;34m\u001b[0m\u001b[0m\n\u001b[1;32m     10\u001b[0m \u001b[0mav\u001b[0m \u001b[0;34m=\u001b[0m \u001b[0mmaker_buggy\u001b[0m\u001b[0;34m(\u001b[0m\u001b[0;34m)\u001b[0m\u001b[0;34m\u001b[0m\u001b[0m\n\u001b[0;32m---> 11\u001b[0;31m \u001b[0mav\u001b[0m\u001b[0;34m(\u001b[0m\u001b[0;36m9\u001b[0m\u001b[0;34m)\u001b[0m\u001b[0;34m\u001b[0m\u001b[0m\n\u001b[0m\u001b[1;32m     12\u001b[0m \u001b[0;31m#does not work: _sum and _counts are local variable because they're numbers:hashable\u001b[0m\u001b[0;34m\u001b[0m\u001b[0;34m\u001b[0m\u001b[0m\n\u001b[1;32m     13\u001b[0m \u001b[0;31m#so_far instead is mutable, so it can be used as a free variable\u001b[0m\u001b[0;34m\u001b[0m\u001b[0;34m\u001b[0m\u001b[0m\n",
      "\u001b[0;32m<ipython-input-9-464ab8a01d53>\u001b[0m in \u001b[0;36mavg\u001b[0;34m(new_value)\u001b[0m\n\u001b[1;32m      3\u001b[0m     \u001b[0m_count\u001b[0m \u001b[0;34m=\u001b[0m \u001b[0;36m0\u001b[0m\u001b[0;34m\u001b[0m\u001b[0m\n\u001b[1;32m      4\u001b[0m     \u001b[0;32mdef\u001b[0m \u001b[0mavg\u001b[0m\u001b[0;34m(\u001b[0m\u001b[0mnew_value\u001b[0m\u001b[0;34m)\u001b[0m\u001b[0;34m:\u001b[0m\u001b[0;34m\u001b[0m\u001b[0m\n\u001b[0;32m----> 5\u001b[0;31m         \u001b[0m_sum\u001b[0m \u001b[0;34m+=\u001b[0m \u001b[0mnew_value\u001b[0m\u001b[0;34m\u001b[0m\u001b[0m\n\u001b[0m\u001b[1;32m      6\u001b[0m         \u001b[0m_count\u001b[0m \u001b[0;34m+=\u001b[0m \u001b[0;36m1\u001b[0m\u001b[0;34m\u001b[0m\u001b[0m\n\u001b[1;32m      7\u001b[0m         \u001b[0;32mreturn\u001b[0m \u001b[0m_sum\u001b[0m\u001b[0;34m/\u001b[0m\u001b[0m_count\u001b[0m\u001b[0;34m\u001b[0m\u001b[0m\n",
      "\u001b[0;31mUnboundLocalError\u001b[0m: local variable '_sum' referenced before assignment"
     ]
    }
   ],
   "source": [
    "def maker_buggy():\n",
    "    _sum = 0\n",
    "    _count = 0\n",
    "    def avg(new_value):\n",
    "        _sum += new_value\n",
    "        _count += 1\n",
    "        return _sum/_count\n",
    "    return avg\n",
    "\n",
    "av = maker_buggy()\n",
    "av(9)\n",
    "#does not work: _sum and _counts are local variable because they're numbers:hashable\n",
    "#so_far instead is mutable, so it can be used as a free variable"
   ]
  },
  {
   "cell_type": "code",
   "execution_count": 8,
   "metadata": {},
   "outputs": [
    {
     "name": "stdout",
     "output_type": "stream",
     "text": [
      "co_varnames ('new_value', '_sum', '_count')\n",
      "co_freevars ()\n"
     ]
    }
   ],
   "source": [
    "inspect_vars(av)"
   ]
  },
  {
   "cell_type": "code",
   "execution_count": 10,
   "metadata": {},
   "outputs": [
    {
     "name": "stdout",
     "output_type": "stream",
     "text": [
      "9.0\n",
      "10.0\n",
      "20.0\n"
     ]
    }
   ],
   "source": [
    "def maker_right():\n",
    "    _sum = 0\n",
    "    _count = 0\n",
    "    def avg(new_value):\n",
    "        nonlocal _sum,_count\n",
    "        _sum += new_value\n",
    "        _count += 1\n",
    "        return _sum/_count\n",
    "    return avg\n",
    "\n",
    "av = maker_right()\n",
    "print(av(9)) #it invokes avg, not maker\n",
    "print(av(11))\n",
    "print(av(40))"
   ]
  },
  {
   "cell_type": "code",
   "execution_count": 12,
   "metadata": {},
   "outputs": [
    {
     "name": "stdout",
     "output_type": "stream",
     "text": [
      "co_varnames ('new_value',)\n",
      "co_freevars ('_count', '_sum')\n"
     ]
    }
   ],
   "source": [
    "inspect_vars(av)\n",
    "#maker IS A CLOSURE"
   ]
  },
  {
   "cell_type": "markdown",
   "metadata": {},
   "source": [
    "### closure\n",
    "A closure is a function that retains the bindings of the free variables that exist when the function is defined, so that they can be used later when the function is invoked and the **defining scope** is no longer available."
   ]
  }
 ],
 "metadata": {
  "kernelspec": {
   "display_name": "Python 3",
   "language": "python",
   "name": "python3"
  },
  "language_info": {
   "codemirror_mode": {
    "name": "ipython",
    "version": 3
   },
   "file_extension": ".py",
   "mimetype": "text/x-python",
   "name": "python",
   "nbconvert_exporter": "python",
   "pygments_lexer": "ipython3",
   "version": "3.6.6"
  }
 },
 "nbformat": 4,
 "nbformat_minor": 2
}
