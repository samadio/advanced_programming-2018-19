{
 "cells": [
  {
   "cell_type": "markdown",
   "metadata": {},
   "source": [
    "### Class\n",
    "- `class`\n",
    "- `self` (even though you can use whatever)"
   ]
  },
  {
   "cell_type": "code",
   "execution_count": 16,
   "metadata": {},
   "outputs": [
    {
     "name": "stdout",
     "output_type": "stream",
     "text": [
      "1 2\n"
     ]
    }
   ],
   "source": [
    "class Point():\n",
    "    def __init__(self, x, y): #contructor: it's called __init__(self,_*). self it's MANDATORY and at least 2 args\n",
    "        self.x = x            #here are the variables/data\n",
    "        self.y = y\n",
    "        \n",
    "    def method_with_no_arg(self): # if you remove self --> error\n",
    "        print(\"no args!\")\n",
    "    \n",
    "    def update(self, x, y): # do I really need this?\n",
    "        self.x = x     #everything is public, so there's no need if u do something usual\n",
    "        self.y = y\n",
    "        \n",
    "    def nope_update(self, a, b): \n",
    "        x = a     #forgetting self does not give error: it just creates local variables x and y\n",
    "        y = b     #but does not change the value of x or y=>bugs, no error!\n",
    "    \n",
    "    def print(self): # is this pythonic?Nope\n",
    "        print(self.x, self.y)\n",
    "        \n",
    "    def equal(self, other): # is this pythonic?Nope\n",
    "        return (self.x, self.y) == (other.x, other.y)\n",
    "\n",
    "p = Point(1,2)\n",
    "print(p.x,p.y)"
   ]
  },
  {
   "cell_type": "code",
   "execution_count": 2,
   "metadata": {},
   "outputs": [
    {
     "name": "stdout",
     "output_type": "stream",
     "text": [
      "7 8\n",
      "0 0\n"
     ]
    }
   ],
   "source": [
    "p.update(7,8)\n",
    "p.print()\n",
    "\n",
    "p.x, p.y = 0,0\n",
    "p.print()"
   ]
  },
  {
   "cell_type": "code",
   "execution_count": 17,
   "metadata": {},
   "outputs": [
    {
     "name": "stdout",
     "output_type": "stream",
     "text": [
      "no args!\n"
     ]
    }
   ],
   "source": [
    "p.method_with_no_arg()"
   ]
  },
  {
   "cell_type": "code",
   "execution_count": 18,
   "metadata": {},
   "outputs": [
    {
     "data": {
      "text/plain": [
       "False"
      ]
     },
     "execution_count": 18,
     "metadata": {},
     "output_type": "execute_result"
    }
   ],
   "source": [
    "p2 = Point(1,0)\n",
    "p.equal(p2)"
   ]
  },
  {
   "cell_type": "markdown",
   "metadata": {},
   "source": [
    "### Better"
   ]
  },
  {
   "cell_type": "code",
   "execution_count": 26,
   "metadata": {},
   "outputs": [
    {
     "name": "stdout",
     "output_type": "stream",
     "text": [
      "Point coordinates: 3, 4\n"
     ]
    }
   ],
   "source": [
    "class Point():\n",
    "    '''Documention of class Point'''\n",
    "    def __init__(self, x,y):\n",
    "        self.x = x\n",
    "        self.y = y\n",
    "            \n",
    "    def __str__(self):\n",
    "        #return str((self.x,self.y))\n",
    "        #it's the overload of the function that converts in textual\n",
    "        return 'Point coordinates: {0}, {1}'.format(self.x, self.y)\n",
    "    #construct a string: \"string {0}{1}\" with {0},{1} placeholders for args of format\n",
    "    \n",
    "    def __eq__(self, other):\n",
    "        #return self.x == other.x and self.y == other.y\n",
    "        return (self.x,self.y) == (other.x, other.y)\n",
    "        #it's like overloading ==\n",
    "        \n",
    "p = Point(3,4)\n",
    "print(p)\n",
    "\n",
    "#dounder methods: __str__ is a method that should return a string"
   ]
  },
  {
   "cell_type": "code",
   "execution_count": 21,
   "metadata": {},
   "outputs": [
    {
     "data": {
      "text/plain": [
       "False"
      ]
     },
     "execution_count": 21,
     "metadata": {},
     "output_type": "execute_result"
    }
   ],
   "source": [
    "p2 = Point(4,5)\n",
    "p == p2"
   ]
  },
  {
   "cell_type": "code",
   "execution_count": 24,
   "metadata": {},
   "outputs": [
    {
     "data": {
      "text/plain": [
       "True"
      ]
     },
     "execution_count": 24,
     "metadata": {},
     "output_type": "execute_result"
    }
   ],
   "source": [
    "p2.x, p2.y = 3 ,4\n",
    "p == p2 #why does not complain if I not define ==? because they inherits from the same class and the default is\n",
    "#the comparison between the id"
   ]
  },
  {
   "cell_type": "code",
   "execution_count": 8,
   "metadata": {},
   "outputs": [
    {
     "name": "stdout",
     "output_type": "stream",
     "text": [
      "Help on Point in module __main__ object:\n",
      "\n",
      "class Point(builtins.object)\n",
      " |  Documention of class Point\n",
      " |  \n",
      " |  Methods defined here:\n",
      " |  \n",
      " |  __eq__(self, other)\n",
      " |      Return self==value.\n",
      " |  \n",
      " |  __init__(self, x, y)\n",
      " |      Initialize self.  See help(type(self)) for accurate signature.\n",
      " |  \n",
      " |  __str__(self)\n",
      " |      Return str(self).\n",
      " |  \n",
      " |  ----------------------------------------------------------------------\n",
      " |  Data descriptors defined here:\n",
      " |  \n",
      " |  __dict__\n",
      " |      dictionary for instance variables (if defined)\n",
      " |  \n",
      " |  __weakref__\n",
      " |      list of weak references to the object (if defined)\n",
      " |  \n",
      " |  ----------------------------------------------------------------------\n",
      " |  Data and other attributes defined here:\n",
      " |  \n",
      " |  __hash__ = None\n",
      "\n"
     ]
    }
   ],
   "source": [
    "help(p)"
   ]
  }
 ],
 "metadata": {
  "kernelspec": {
   "display_name": "Python 3",
   "language": "python",
   "name": "python3"
  },
  "language_info": {
   "codemirror_mode": {
    "name": "ipython",
    "version": 3
   },
   "file_extension": ".py",
   "mimetype": "text/x-python",
   "name": "python",
   "nbconvert_exporter": "python",
   "pygments_lexer": "ipython3",
   "version": "3.6.8"
  }
 },
 "nbformat": 4,
 "nbformat_minor": 2
}
