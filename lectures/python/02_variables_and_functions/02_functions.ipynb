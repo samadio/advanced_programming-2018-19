{
 "cells": [
  {
   "cell_type": "markdown",
   "metadata": {},
   "source": [
    "###  functions are first-class objects\n",
    "First-class object is a program entity that can be:\n",
    "- created at runtime\n",
    "- assigned to a variable or element in a data structure\n",
    "- passed as an argument to a function\n",
    "- returned as the result of a function"
   ]
  },
  {
   "cell_type": "code",
   "execution_count": 6,
   "metadata": {},
   "outputs": [
    {
     "name": "stdout",
     "output_type": "stream",
     "text": [
      "<class 'function'>\n",
      "hello\n"
     ]
    }
   ],
   "source": [
    "def hello():\n",
    "    print(\"hello\")\n",
    "    \n",
    "print(type(hello))\n",
    "\n",
    "a = hello\n",
    "a()"
   ]
  },
  {
   "cell_type": "markdown",
   "metadata": {},
   "source": [
    "### functions can use recursion"
   ]
  },
  {
   "cell_type": "code",
   "execution_count": 7,
   "metadata": {},
   "outputs": [
    {
     "data": {
      "text/plain": [
       "145183092028285869634070784086308284983740379224208358846781574688061991349156420080065207861248000000000000000000"
      ]
     },
     "execution_count": 7,
     "metadata": {},
     "output_type": "execute_result"
    }
   ],
   "source": [
    "def factorial(n):\n",
    "    return 1 if n<2 else n * factorial(n-1)\n",
    "\n",
    "factorial(77)"
   ]
  },
  {
   "cell_type": "markdown",
   "metadata": {},
   "source": [
    "### args name in functions can be used as `keyword`"
   ]
  },
  {
   "cell_type": "code",
   "execution_count": 9,
   "metadata": {},
   "outputs": [
    {
     "name": "stdout",
     "output_type": "stream",
     "text": [
      "a got to_a\n",
      "b got to_b\n",
      "c got to_c\n"
     ]
    }
   ],
   "source": [
    "def abc(a,b,c):\n",
    "    for i in ('a','b','c'):\n",
    "        print(i,\"got\",eval(i)) #print name of variable, content of variable\n",
    "\n",
    "abc('to_a', 'to_b', 'to_c')"
   ]
  },
  {
   "cell_type": "code",
   "execution_count": 10,
   "metadata": {},
   "outputs": [
    {
     "name": "stdout",
     "output_type": "stream",
     "text": [
      "a got to_a\n",
      "b got to_b\n",
      "c got to_c\n"
     ]
    }
   ],
   "source": [
    "abc(b = 'to_b', c = 'to_c', a = 'to_a')"
   ]
  },
  {
   "cell_type": "markdown",
   "metadata": {},
   "source": [
    "###  if you want keyord-only arguments, put a `*` in the signature"
   ]
  },
  {
   "cell_type": "code",
   "execution_count": 11,
   "metadata": {},
   "outputs": [
    {
     "name": "stdout",
     "output_type": "stream",
     "text": [
      "a got to_a\n",
      "b got to_b\n",
      "c got to_c\n"
     ]
    }
   ],
   "source": [
    "def abc_keyword_only(*,a,b,c):\n",
    "    for i in ('a','b','c'):\n",
    "        print(i,\"got\",eval(i))\n",
    "\n",
    "#abc_keyword_only('to_a', 'to_b', 'to_c') # error\n",
    "abc_keyword_only(b = 'to_b', c = 'to_c', a = 'to_a')"
   ]
  },
  {
   "cell_type": "markdown",
   "metadata": {},
   "source": [
    "### default values"
   ]
  },
  {
   "cell_type": "code",
   "execution_count": 12,
   "metadata": {},
   "outputs": [
    {
     "name": "stdout",
     "output_type": "stream",
     "text": [
      "a got default_a\n",
      "b got to_b\n",
      "c got default_c\n"
     ]
    }
   ],
   "source": [
    "def abc_with_default(a='default_a',\n",
    "                     b='default_b',\n",
    "                     c='default_c'):\n",
    "    abc(a,b,c)\n",
    "    \n",
    "abc_with_default(b = 'to_b')"
   ]
  },
  {
   "cell_type": "markdown",
   "metadata": {},
   "source": [
    "### documentation"
   ]
  },
  {
   "cell_type": "code",
   "execution_count": 13,
   "metadata": {},
   "outputs": [
    {
     "name": "stdout",
     "output_type": "stream",
     "text": [
      "Help on function foo in module __main__:\n",
      "\n",
      "foo()\n",
      "    string documenting foo(). \n",
      "    accessible via help(foo)\n",
      "\n"
     ]
    }
   ],
   "source": [
    "def foo():\n",
    "    '''\n",
    "    string documenting foo(). \n",
    "    accessible via help(foo)\n",
    "    '''\n",
    "    pass\n",
    "\n",
    "help(foo)"
   ]
  },
  {
   "cell_type": "markdown",
   "metadata": {},
   "source": [
    "### function annotations"
   ]
  },
  {
   "cell_type": "code",
   "execution_count": 16,
   "metadata": {},
   "outputs": [],
   "source": [
    "def complicated_function(text:str, max_len:'int>0'=80) -> str:\n",
    "    '''documentation for complicated_function'''\n",
    "    pass"
   ]
  },
  {
   "cell_type": "code",
   "execution_count": 17,
   "metadata": {},
   "outputs": [
    {
     "name": "stdout",
     "output_type": "stream",
     "text": [
      "Help on function complicated_function in module __main__:\n",
      "\n",
      "complicated_function(text:str, max_len:'int>0'=80) -> str\n",
      "    documentation for complicated_function\n",
      "\n"
     ]
    }
   ],
   "source": [
    "help(complicated_function)"
   ]
  },
  {
   "cell_type": "markdown",
   "metadata": {},
   "source": [
    "###  much more"
   ]
  },
  {
   "cell_type": "code",
   "execution_count": null,
   "metadata": {},
   "outputs": [],
   "source": [
    "for i in dir(complicated_function):\n",
    "    print(i,'is',eval('complicated_function.'+i))"
   ]
  }
 ],
 "metadata": {
  "kernelspec": {
   "display_name": "Python 3",
   "language": "python",
   "name": "python3"
  },
  "language_info": {
   "codemirror_mode": {
    "name": "ipython",
    "version": 3
   },
   "file_extension": ".py",
   "mimetype": "text/x-python",
   "name": "python",
   "nbconvert_exporter": "python",
   "pygments_lexer": "ipython3",
   "version": "3.6.6"
  }
 },
 "nbformat": 4,
 "nbformat_minor": 2
}
