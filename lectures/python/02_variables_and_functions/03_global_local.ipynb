{
 "cells": [
  {
   "cell_type": "markdown",
   "metadata": {},
   "source": [
    "### Global "
   ]
  },
  {
   "cell_type": "code",
   "execution_count": 1,
   "metadata": {},
   "outputs": [
    {
     "name": "stdout",
     "output_type": "stream",
     "text": [
      "inside foo 9\n",
      "main 9\n"
     ]
    }
   ],
   "source": [
    "b = 9\n",
    "def foo():\n",
    "    print(\"inside foo\", b)\n",
    "\n",
    "foo()\n",
    "print(\"main\", b)"
   ]
  },
  {
   "cell_type": "markdown",
   "metadata": {},
   "source": [
    "###  Local"
   ]
  },
  {
   "cell_type": "code",
   "execution_count": 3,
   "metadata": {},
   "outputs": [
    {
     "name": "stdout",
     "output_type": "stream",
     "text": [
      "inside bar 7\n"
     ]
    },
    {
     "ename": "NameError",
     "evalue": "name 'y' is not defined",
     "output_type": "error",
     "traceback": [
      "\u001b[0;31m---------------------------------------------------------------------------\u001b[0m",
      "\u001b[0;31mNameError\u001b[0m                                 Traceback (most recent call last)",
      "\u001b[0;32m<ipython-input-3-479829e5c6fe>\u001b[0m in \u001b[0;36m<module>\u001b[0;34m()\u001b[0m\n\u001b[1;32m      4\u001b[0m \u001b[0;34m\u001b[0m\u001b[0m\n\u001b[1;32m      5\u001b[0m \u001b[0mbar\u001b[0m\u001b[0;34m(\u001b[0m\u001b[0;34m)\u001b[0m\u001b[0;34m\u001b[0m\u001b[0m\n\u001b[0;32m----> 6\u001b[0;31m \u001b[0mprint\u001b[0m\u001b[0;34m(\u001b[0m\u001b[0;34m\"main\"\u001b[0m\u001b[0;34m,\u001b[0m \u001b[0my\u001b[0m\u001b[0;34m)\u001b[0m \u001b[0;31m# expect error, YES\u001b[0m\u001b[0;34m\u001b[0m\u001b[0m\n\u001b[0m",
      "\u001b[0;31mNameError\u001b[0m: name 'y' is not defined"
     ]
    }
   ],
   "source": [
    "def bar():\n",
    "    y = 7\n",
    "    print(\"inside bar\", y)\n",
    "\n",
    "bar()\n",
    "print(\"main\", y) # expect error, YES"
   ]
  },
  {
   "cell_type": "markdown",
   "metadata": {},
   "source": [
    "### Pay attention!"
   ]
  },
  {
   "cell_type": "code",
   "execution_count": 6,
   "metadata": {},
   "outputs": [
    {
     "name": "stdout",
     "output_type": "stream",
     "text": [
      "main 9\n",
      "inside magic 7 6\n"
     ]
    }
   ],
   "source": [
    "b = 9\n",
    "def magic():\n",
    "    y = 7\n",
    "    b = 6 #it assumes b to be a new local variable!you can vary it here but global will be unchanged\n",
    "    print(\"inside magic\", y, b)\n",
    "\n",
    "print(\"main\", b)\n",
    "magic()"
   ]
  },
  {
   "cell_type": "code",
   "execution_count": 7,
   "metadata": {},
   "outputs": [
    {
     "name": "stdout",
     "output_type": "stream",
     "text": [
      "inside magic_local 7 6\n",
      "main 9\n"
     ]
    }
   ],
   "source": [
    "b = 9\n",
    "def magic_local():\n",
    "    y = 7\n",
    "    b = 6\n",
    "    print(\"inside magic_local\", y, b)\n",
    "\n",
    "magic_local()\n",
    "print(\"main\", b)"
   ]
  },
  {
   "cell_type": "markdown",
   "metadata": {},
   "source": [
    "### `global` keyword"
   ]
  },
  {
   "cell_type": "code",
   "execution_count": 8,
   "metadata": {},
   "outputs": [
    {
     "name": "stdout",
     "output_type": "stream",
     "text": [
      "inside magic_global 7 9\n",
      "main 6\n"
     ]
    }
   ],
   "source": [
    "b = 9\n",
    "def magic_global():\n",
    "    global b # <----!!!!!!!!!!!!!11!1!\n",
    "    y = 7\n",
    "    print(\"inside magic_global\", y, b)\n",
    "    b = 6\n",
    "\n",
    "magic_global()\n",
    "print(\"main\", b)"
   ]
  }
 ],
 "metadata": {
  "kernelspec": {
   "display_name": "Python 3",
   "language": "python",
   "name": "python3"
  },
  "language_info": {
   "codemirror_mode": {
    "name": "ipython",
    "version": 3
   },
   "file_extension": ".py",
   "mimetype": "text/x-python",
   "name": "python",
   "nbconvert_exporter": "python",
   "pygments_lexer": "ipython3",
   "version": "3.6.6"
  }
 },
 "nbformat": 4,
 "nbformat_minor": 2
}
